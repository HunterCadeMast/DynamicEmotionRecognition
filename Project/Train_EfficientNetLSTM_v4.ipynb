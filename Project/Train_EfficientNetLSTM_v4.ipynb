{
  "cells": [
    {
      "cell_type": "code",
      "source": [
        "from google.colab import drive\n",
        "drive.mount('/content/drive')"
      ],
      "metadata": {
        "colab": {
          "base_uri": "https://localhost:8080/"
        },
        "id": "AqX3ibznrpzU",
        "outputId": "930b5ce9-dd67-4a98-bb55-0ed56016a474"
      },
      "id": "AqX3ibznrpzU",
      "execution_count": 2,
      "outputs": [
        {
          "output_type": "stream",
          "name": "stdout",
          "text": [
            "Drive already mounted at /content/drive; to attempt to forcibly remount, call drive.mount(\"/content/drive\", force_remount=True).\n"
          ]
        }
      ]
    },
    {
      "cell_type": "code",
      "source": [
        "# !unzip \"/content/drive/My Drive/Celestine/Sequence_based FER/dataset.zip\" -d \"/content/drive/My Drive/Celestine/Sequence_based FER/dataset\"\n"
      ],
      "metadata": {
        "id": "r3KsnAscvSu5"
      },
      "id": "r3KsnAscvSu5",
      "execution_count": 2,
      "outputs": []
    },
    {
      "cell_type": "code",
      "source": [
        "import os\n",
        "\n",
        "# Set CUDA_LAUNCH_BLOCKING to 1\n",
        "os.environ['CUDA_LAUNCH_BLOCKING'] = \"1\"\n",
        "\n",
        "print(\"CUDA_LAUNCH_BLOCKING:\", os.getenv('CUDA_LAUNCH_BLOCKING'))\n"
      ],
      "metadata": {
        "colab": {
          "base_uri": "https://localhost:8080/"
        },
        "id": "-zoPApKykwfP",
        "outputId": "8a23d55d-fcd3-43cc-f7ee-d7bcf0a3e84c"
      },
      "id": "-zoPApKykwfP",
      "execution_count": 3,
      "outputs": [
        {
          "output_type": "stream",
          "name": "stdout",
          "text": [
            "CUDA_LAUNCH_BLOCKING: 1\n"
          ]
        }
      ]
    },
    {
      "cell_type": "code",
      "source": [
        "os.environ['PYTORCH_CUDA_ALLOC_CONF'] = 'expandable_segments:True'"
      ],
      "metadata": {
        "id": "DIX3IwKvPbth"
      },
      "id": "DIX3IwKvPbth",
      "execution_count": 4,
      "outputs": []
    },
    {
      "cell_type": "code",
      "source": [
        "import os\n",
        "folder_path = '/content/drive/My Drive/Celestine/Sequence_based FER/saved_model'\n",
        "\n",
        "os.makedirs(folder_path, exist_ok=True)"
      ],
      "metadata": {
        "id": "Bty3dRaT82KV"
      },
      "id": "Bty3dRaT82KV",
      "execution_count": 5,
      "outputs": []
    },
    {
      "cell_type": "code",
      "execution_count": 6,
      "id": "85761efa",
      "metadata": {
        "id": "85761efa"
      },
      "outputs": [],
      "source": [
        "import os\n",
        "import numpy as np\n",
        "from sklearn.preprocessing import LabelEncoder\n",
        "import matplotlib.pyplot as plt\n",
        "import cv2\n",
        "from PIL import Image\n",
        "from random import shuffle\n",
        "\n",
        "import pandas as pd\n",
        "\n",
        "import pickle\n",
        "\n",
        "from sklearn.svm import SVC,LinearSVC\n",
        "from sklearn.ensemble import RandomForestClassifier, BaggingClassifier,ExtraTreesClassifier\n",
        "from sklearn import svm,metrics,preprocessing\n",
        "from sklearn.neighbors import KNeighborsClassifier\n",
        "from sklearn.neural_network import MLPClassifier\n",
        "from sklearn import preprocessing\n",
        "\n",
        "#from scipy.misc import imread, imresize\n",
        "\n",
        "%matplotlib inline"
      ]
    },
    {
      "cell_type": "code",
      "execution_count": 7,
      "id": "e00928d8",
      "metadata": {
        "id": "e00928d8"
      },
      "outputs": [],
      "source": [
        "\n",
        "INPUT_SIZE = (224, 224)"
      ]
    },
    {
      "cell_type": "code",
      "execution_count": 8,
      "id": "6f2bc6ad",
      "metadata": {
        "colab": {
          "base_uri": "https://localhost:8080/"
        },
        "id": "6f2bc6ad",
        "outputId": "4ca9b411-be64-41da-938e-9f050e60df35"
      },
      "outputs": [
        {
          "output_type": "stream",
          "name": "stdout",
          "text": [
            "Torch: 2.2.1+cu121\n"
          ]
        }
      ],
      "source": [
        "import glob\n",
        "from itertools import chain\n",
        "import os\n",
        "import random\n",
        "import zipfile\n",
        "\n",
        "import matplotlib.pyplot as plt\n",
        "import numpy as np\n",
        "import pandas as pd\n",
        "import torch\n",
        "import torch.nn as nn\n",
        "import torch.nn.functional as F\n",
        "import torch.optim as optim\n",
        "from PIL import Image\n",
        "from sklearn.model_selection import train_test_split\n",
        "from torch.optim.lr_scheduler import StepLR\n",
        "from torch.utils.data import DataLoader, Dataset\n",
        "from torchvision import datasets, transforms\n",
        "from tqdm.notebook import tqdm\n",
        "\n",
        "\n",
        "print(f\"Torch: {torch.__version__}\")"
      ]
    },
    {
      "cell_type": "code",
      "source": [
        "print(torch.cuda.is_available())"
      ],
      "metadata": {
        "colab": {
          "base_uri": "https://localhost:8080/"
        },
        "id": "GOpAN1ix-5n7",
        "outputId": "78aa1a2b-12cc-4a38-f9b6-266050208970"
      },
      "id": "GOpAN1ix-5n7",
      "execution_count": 9,
      "outputs": [
        {
          "output_type": "stream",
          "name": "stdout",
          "text": [
            "True\n"
          ]
        }
      ]
    },
    {
      "cell_type": "code",
      "execution_count": 10,
      "id": "f2e1f24e",
      "metadata": {
        "colab": {
          "base_uri": "https://localhost:8080/"
        },
        "id": "f2e1f24e",
        "outputId": "0c0716b7-4865-4f59-d9b8-17cf90281f2f"
      },
      "outputs": [
        {
          "output_type": "stream",
          "name": "stdout",
          "text": [
            "True cuda\n"
          ]
        }
      ],
      "source": [
        "use_cuda = torch.cuda.is_available()\n",
        "device = 'cuda' if use_cuda else 'cpu'\n",
        "print(use_cuda,device)"
      ]
    },
    {
      "cell_type": "code",
      "source": [
        "torch.cuda.empty_cache()  # Clear unused memory"
      ],
      "metadata": {
        "id": "PKjPQ009O8_C"
      },
      "id": "PKjPQ009O8_C",
      "execution_count": 11,
      "outputs": []
    },
    {
      "cell_type": "code",
      "execution_count": 12,
      "id": "cff2c58d",
      "metadata": {
        "id": "cff2c58d"
      },
      "outputs": [],
      "source": [
        "USE_ENET2=False #True #"
      ]
    },
    {
      "cell_type": "code",
      "execution_count": 13,
      "id": "bfe33742",
      "metadata": {
        "colab": {
          "base_uri": "https://localhost:8080/"
        },
        "id": "bfe33742",
        "outputId": "c4a82325-b7ce-401c-d397-695d51125e2f"
      },
      "outputs": [
        {
          "output_type": "stream",
          "name": "stdout",
          "text": [
            "Compose(\n",
            "    Resize(size=(224, 224), interpolation=bilinear, max_size=None, antialias=True)\n",
            "    ToTensor()\n",
            "    Normalize(mean=[0.485, 0.456, 0.406], std=[0.229, 0.224, 0.225])\n",
            ")\n"
          ]
        }
      ],
      "source": [
        "IMG_SIZE=260 if USE_ENET2 else 224 # 300 # 80 #\n",
        "train_transforms = transforms.Compose(\n",
        "    [\n",
        "        transforms.Resize((IMG_SIZE,IMG_SIZE)),\n",
        "        transforms.ToTensor(),\n",
        "        transforms.Normalize(mean=[0.485, 0.456, 0.406],\n",
        "                                     std=[0.229, 0.224, 0.225])\n",
        "    ]\n",
        ")\n",
        "\n",
        "test_transforms = transforms.Compose(\n",
        "    [\n",
        "        transforms.Resize((IMG_SIZE,IMG_SIZE)),\n",
        "        transforms.ToTensor(),\n",
        "        transforms.Normalize(mean=[0.485, 0.456, 0.406],\n",
        "                                     std=[0.229, 0.224, 0.225])\n",
        "    ]\n",
        ")\n",
        "print(test_transforms)"
      ]
    },
    {
      "cell_type": "code",
      "execution_count": 14,
      "id": "6a53a1f1",
      "metadata": {
        "id": "6a53a1f1"
      },
      "outputs": [],
      "source": [
        "# Download and set path to this model enet_b0_8_va_mtl.pt\n",
        "# PATH=\"enet_b2_8_best.pt\"\n",
        "# PATH=\"enet_b0_8_best_afew.pt\"\n",
        "PATH=\"/content/drive/MyDrive/Celestine/Sequence_based FER/enet_b0_8_va_mtl.pt\"\n",
        "model_name='enet0_8_pt'"
      ]
    },
    {
      "cell_type": "code",
      "source": [
        "!pip install timm"
      ],
      "metadata": {
        "colab": {
          "base_uri": "https://localhost:8080/"
        },
        "id": "hX0FIcT2Qlr0",
        "outputId": "9a2fbfa5-1385-4f1d-d97b-2f3006f44b42"
      },
      "id": "hX0FIcT2Qlr0",
      "execution_count": 15,
      "outputs": [
        {
          "output_type": "stream",
          "name": "stdout",
          "text": [
            "Collecting timm\n",
            "  Downloading timm-0.9.16-py3-none-any.whl (2.2 MB)\n",
            "\u001b[?25l     \u001b[90m━━━━━━━━━━━━━━━━━━━━━━━━━━━━━━━━━━━━━━━━\u001b[0m \u001b[32m0.0/2.2 MB\u001b[0m \u001b[31m?\u001b[0m eta \u001b[36m-:--:--\u001b[0m\r\u001b[2K     \u001b[91m━━━━━\u001b[0m\u001b[90m╺\u001b[0m\u001b[90m━━━━━━━━━━━━━━━━━━━━━━━━━━━━━━━━━━\u001b[0m \u001b[32m0.3/2.2 MB\u001b[0m \u001b[31m9.0 MB/s\u001b[0m eta \u001b[36m0:00:01\u001b[0m\r\u001b[2K     \u001b[90m━━━━━━━━━━━━━━━━━━━━━━━━━━━━━━━━━━━━━━━━\u001b[0m \u001b[32m2.2/2.2 MB\u001b[0m \u001b[31m33.2 MB/s\u001b[0m eta \u001b[36m0:00:00\u001b[0m\n",
            "\u001b[?25hRequirement already satisfied: torch in /usr/local/lib/python3.10/dist-packages (from timm) (2.2.1+cu121)\n",
            "Requirement already satisfied: torchvision in /usr/local/lib/python3.10/dist-packages (from timm) (0.17.1+cu121)\n",
            "Requirement already satisfied: pyyaml in /usr/local/lib/python3.10/dist-packages (from timm) (6.0.1)\n",
            "Requirement already satisfied: huggingface_hub in /usr/local/lib/python3.10/dist-packages (from timm) (0.20.3)\n",
            "Requirement already satisfied: safetensors in /usr/local/lib/python3.10/dist-packages (from timm) (0.4.3)\n",
            "Requirement already satisfied: filelock in /usr/local/lib/python3.10/dist-packages (from huggingface_hub->timm) (3.13.4)\n",
            "Requirement already satisfied: fsspec>=2023.5.0 in /usr/local/lib/python3.10/dist-packages (from huggingface_hub->timm) (2023.6.0)\n",
            "Requirement already satisfied: requests in /usr/local/lib/python3.10/dist-packages (from huggingface_hub->timm) (2.31.0)\n",
            "Requirement already satisfied: tqdm>=4.42.1 in /usr/local/lib/python3.10/dist-packages (from huggingface_hub->timm) (4.66.2)\n",
            "Requirement already satisfied: typing-extensions>=3.7.4.3 in /usr/local/lib/python3.10/dist-packages (from huggingface_hub->timm) (4.11.0)\n",
            "Requirement already satisfied: packaging>=20.9 in /usr/local/lib/python3.10/dist-packages (from huggingface_hub->timm) (24.0)\n",
            "Requirement already satisfied: sympy in /usr/local/lib/python3.10/dist-packages (from torch->timm) (1.12)\n",
            "Requirement already satisfied: networkx in /usr/local/lib/python3.10/dist-packages (from torch->timm) (3.3)\n",
            "Requirement already satisfied: jinja2 in /usr/local/lib/python3.10/dist-packages (from torch->timm) (3.1.3)\n",
            "Collecting nvidia-cuda-nvrtc-cu12==12.1.105 (from torch->timm)\n",
            "  Using cached nvidia_cuda_nvrtc_cu12-12.1.105-py3-none-manylinux1_x86_64.whl (23.7 MB)\n",
            "Collecting nvidia-cuda-runtime-cu12==12.1.105 (from torch->timm)\n",
            "  Using cached nvidia_cuda_runtime_cu12-12.1.105-py3-none-manylinux1_x86_64.whl (823 kB)\n",
            "Collecting nvidia-cuda-cupti-cu12==12.1.105 (from torch->timm)\n",
            "  Using cached nvidia_cuda_cupti_cu12-12.1.105-py3-none-manylinux1_x86_64.whl (14.1 MB)\n",
            "Collecting nvidia-cudnn-cu12==8.9.2.26 (from torch->timm)\n",
            "  Using cached nvidia_cudnn_cu12-8.9.2.26-py3-none-manylinux1_x86_64.whl (731.7 MB)\n",
            "Collecting nvidia-cublas-cu12==12.1.3.1 (from torch->timm)\n",
            "  Using cached nvidia_cublas_cu12-12.1.3.1-py3-none-manylinux1_x86_64.whl (410.6 MB)\n",
            "Collecting nvidia-cufft-cu12==11.0.2.54 (from torch->timm)\n",
            "  Using cached nvidia_cufft_cu12-11.0.2.54-py3-none-manylinux1_x86_64.whl (121.6 MB)\n",
            "Collecting nvidia-curand-cu12==10.3.2.106 (from torch->timm)\n",
            "  Using cached nvidia_curand_cu12-10.3.2.106-py3-none-manylinux1_x86_64.whl (56.5 MB)\n",
            "Collecting nvidia-cusolver-cu12==11.4.5.107 (from torch->timm)\n",
            "  Using cached nvidia_cusolver_cu12-11.4.5.107-py3-none-manylinux1_x86_64.whl (124.2 MB)\n",
            "Collecting nvidia-cusparse-cu12==12.1.0.106 (from torch->timm)\n",
            "  Using cached nvidia_cusparse_cu12-12.1.0.106-py3-none-manylinux1_x86_64.whl (196.0 MB)\n",
            "Collecting nvidia-nccl-cu12==2.19.3 (from torch->timm)\n",
            "  Using cached nvidia_nccl_cu12-2.19.3-py3-none-manylinux1_x86_64.whl (166.0 MB)\n",
            "Collecting nvidia-nvtx-cu12==12.1.105 (from torch->timm)\n",
            "  Using cached nvidia_nvtx_cu12-12.1.105-py3-none-manylinux1_x86_64.whl (99 kB)\n",
            "Requirement already satisfied: triton==2.2.0 in /usr/local/lib/python3.10/dist-packages (from torch->timm) (2.2.0)\n",
            "Collecting nvidia-nvjitlink-cu12 (from nvidia-cusolver-cu12==11.4.5.107->torch->timm)\n",
            "  Using cached nvidia_nvjitlink_cu12-12.4.127-py3-none-manylinux2014_x86_64.whl (21.1 MB)\n",
            "Requirement already satisfied: numpy in /usr/local/lib/python3.10/dist-packages (from torchvision->timm) (1.25.2)\n",
            "Requirement already satisfied: pillow!=8.3.*,>=5.3.0 in /usr/local/lib/python3.10/dist-packages (from torchvision->timm) (9.4.0)\n",
            "Requirement already satisfied: MarkupSafe>=2.0 in /usr/local/lib/python3.10/dist-packages (from jinja2->torch->timm) (2.1.5)\n",
            "Requirement already satisfied: charset-normalizer<4,>=2 in /usr/local/lib/python3.10/dist-packages (from requests->huggingface_hub->timm) (3.3.2)\n",
            "Requirement already satisfied: idna<4,>=2.5 in /usr/local/lib/python3.10/dist-packages (from requests->huggingface_hub->timm) (3.7)\n",
            "Requirement already satisfied: urllib3<3,>=1.21.1 in /usr/local/lib/python3.10/dist-packages (from requests->huggingface_hub->timm) (2.0.7)\n",
            "Requirement already satisfied: certifi>=2017.4.17 in /usr/local/lib/python3.10/dist-packages (from requests->huggingface_hub->timm) (2024.2.2)\n",
            "Requirement already satisfied: mpmath>=0.19 in /usr/local/lib/python3.10/dist-packages (from sympy->torch->timm) (1.3.0)\n",
            "Installing collected packages: nvidia-nvtx-cu12, nvidia-nvjitlink-cu12, nvidia-nccl-cu12, nvidia-curand-cu12, nvidia-cufft-cu12, nvidia-cuda-runtime-cu12, nvidia-cuda-nvrtc-cu12, nvidia-cuda-cupti-cu12, nvidia-cublas-cu12, nvidia-cusparse-cu12, nvidia-cudnn-cu12, nvidia-cusolver-cu12, timm\n",
            "Successfully installed nvidia-cublas-cu12-12.1.3.1 nvidia-cuda-cupti-cu12-12.1.105 nvidia-cuda-nvrtc-cu12-12.1.105 nvidia-cuda-runtime-cu12-12.1.105 nvidia-cudnn-cu12-8.9.2.26 nvidia-cufft-cu12-11.0.2.54 nvidia-curand-cu12-10.3.2.106 nvidia-cusolver-cu12-11.4.5.107 nvidia-cusparse-cu12-12.1.0.106 nvidia-nccl-cu12-2.19.3 nvidia-nvjitlink-cu12-12.4.127 nvidia-nvtx-cu12-12.1.105 timm-0.9.16\n"
          ]
        }
      ]
    },
    {
      "cell_type": "code",
      "execution_count": 16,
      "id": "1ece6296",
      "metadata": {
        "colab": {
          "base_uri": "https://localhost:8080/"
        },
        "id": "1ece6296",
        "outputId": "b20f74bd-d701-4440-e1b6-e2ad58a4f6ba"
      },
      "outputs": [
        {
          "output_type": "stream",
          "name": "stdout",
          "text": [
            "/content/drive/MyDrive/Celestine/Sequence_based FER/enet_b0_8_va_mtl.pt\n"
          ]
        }
      ],
      "source": [
        "print(PATH)\n",
        "model=torch.load(PATH, map_location=torch.device(device))\n",
        "model.eval()\n",
        "model=model.eval()"
      ]
    },
    {
      "cell_type": "code",
      "execution_count": 17,
      "id": "9ac6280e",
      "metadata": {
        "id": "9ac6280e"
      },
      "outputs": [],
      "source": [
        "import tensorflow as tf\n",
        "from tensorflow.compat.v1.keras.backend import set_session\n",
        "config = tf.compat.v1.ConfigProto()\n",
        "config.gpu_options.allow_growth = True\n",
        "sess=tf.compat.v1.Session(config=config)\n",
        "set_session(sess)"
      ]
    },
    {
      "cell_type": "code",
      "execution_count": 18,
      "id": "46cdcdbf",
      "metadata": {
        "id": "46cdcdbf"
      },
      "outputs": [],
      "source": [
        "# IMPORTANT\n",
        "\n",
        "\n",
        "import os\n",
        "import json\n",
        "import torch\n",
        "from torch.utils.data import Dataset\n",
        "from PIL import Image\n",
        "\n",
        "import torch\n",
        "from torch.utils.data import Dataset\n",
        "from PIL import Image\n",
        "import os\n",
        "import json\n",
        "\n",
        "class AFEWVADataset(Dataset):\n",
        "    def __init__(self, root_dir, sequence_length, transform=None):\n",
        "        self.root_dir = root_dir\n",
        "        self.sequence_length = sequence_length\n",
        "        self.transform = transform\n",
        "        self.samples = []\n",
        "        self._load_dataset()\n",
        "\n",
        "    def _load_dataset(self):\n",
        "        for main_folder in os.listdir(self.root_dir):\n",
        "            main_folder_path = os.path.join(self.root_dir, main_folder)\n",
        "            if os.path.isdir(main_folder_path):\n",
        "                for video_folder in os.listdir(main_folder_path):\n",
        "                    video_folder_path = os.path.join(main_folder_path, video_folder)\n",
        "                    annotation_file = os.path.join(video_folder_path, 'labeled_data.json')\n",
        "                    if os.path.isfile(annotation_file):\n",
        "                        with open(annotation_file, 'r') as file:\n",
        "                            annotations = json.load(file)\n",
        "                        annotations_dict = {a['frame_id']: a for a in annotations}\n",
        "                        frame_files = [f for f in os.listdir(video_folder_path) if f.startswith('face_') and f.endswith('.png')]\n",
        "                        frame_files = sorted(frame_files, key=lambda x: int(x.split('_')[1].split('.')[0]))\n",
        "                        if len(frame_files) >= self.sequence_length:\n",
        "                            for i in range(len(frame_files) - self.sequence_length + 1):\n",
        "                                sequence_frames = frame_files[i:i + self.sequence_length]\n",
        "                                sequence_paths = [os.path.join(video_folder_path, f) for f in sequence_frames]\n",
        "                                arousal_scores = [annotations_dict[f.split('_')[1].split('.')[0]]['arousal'] for f in sequence_frames]\n",
        "                                valence_scores = [annotations_dict[f.split('_')[1].split('.')[0]]['valence'] for f in sequence_frames]\n",
        "\n",
        "                                avg_arousal = round(sum(arousal_scores) / len(arousal_scores))\n",
        "                                avg_valence = round(sum(valence_scores) / len(valence_scores))\n",
        "\n",
        "                                # Convert to classes: map [-10, 10] to [0, 20]\n",
        "                                arousal_class = int(avg_arousal) + 10\n",
        "                                valence_class = int(avg_valence) + 10\n",
        "\n",
        "                                self.samples.append((sequence_paths, arousal_class, valence_class))\n",
        "\n",
        "    def __getitem__(self, idx):\n",
        "        frame_paths, arousal_class, valence_class = self.samples[idx]\n",
        "        frames = [self.transform(Image.open(fp).convert('RGB')) if self.transform else Image.open(fp).convert('RGB') for fp in frame_paths]\n",
        "        frames_tensor = torch.stack(frames)\n",
        "        return frames_tensor, arousal_class, valence_class\n",
        "\n",
        "    def __len__(self):\n",
        "        return len(self.samples)\n",
        "\n",
        "\n",
        "\n",
        "\n",
        "\n",
        "\n",
        "\n",
        "# Define transformations and instantiate dataset\n",
        "transform = transforms.Compose([\n",
        "    transforms.Resize((224, 224)),\n",
        "    transforms.ToTensor(),\n",
        "    transforms.Normalize(mean=[0.485, 0.456, 0.406], std=[0.229, 0.224, 0.225])\n",
        "])\n",
        "# dataset_path = r\"C:\\dataset\\dataset\"\n",
        "dataset_path = '/content/drive/My Drive/Celestine/Sequence_based FER/dataset/dataset'\n",
        "full_dataset = AFEWVADataset(root_dir=dataset_path, sequence_length=30, transform=transform)\n"
      ]
    },
    {
      "cell_type": "code",
      "source": [
        "device = torch.device(\"cuda\" if torch.cuda.is_available() else \"cpu\")\n",
        "original_model = torch.load(PATH, map_location=device)"
      ],
      "metadata": {
        "id": "LMJ3dLEHUV5D"
      },
      "id": "LMJ3dLEHUV5D",
      "execution_count": 19,
      "outputs": []
    },
    {
      "cell_type": "code",
      "source": [
        "import torch\n",
        "import torch.nn as nn\n",
        "\n",
        "class EfficientNetLSTM(nn.Module):\n",
        "    def __init__(self, original_model, hidden_dim, lstm_layers):\n",
        "        super(EfficientNetLSTM, self).__init__()\n",
        "        self.efficient_net = original_model\n",
        "        self.efficient_net.classifier = nn.Identity()\n",
        "        self.lstm = nn.LSTM(1280, hidden_dim, num_layers=lstm_layers, batch_first=True)\n",
        "        self.classifier_arousal = nn.Linear(hidden_dim, 21)  # 21 classes for arousal\n",
        "        self.classifier_valence = nn.Linear(hidden_dim, 21)  # 21 classes for valence\n",
        "\n",
        "    def forward(self, x):\n",
        "        batch_size, timesteps, C, H, W = x.size()\n",
        "        c_out = torch.empty((batch_size, timesteps, 1280), device=x.device)\n",
        "\n",
        "        for i in range(timesteps):\n",
        "            frame_features = self.efficient_net(x[:, i, :, :, :])\n",
        "            c_out[:, i, :] = frame_features.view(frame_features.size(0), -1)\n",
        "\n",
        "        h_out, _ = self.lstm(c_out)\n",
        "        h_out = h_out[:, -1, :]  # Using only the last timestep output for prediction\n",
        "        output_arousal = self.classifier_arousal(h_out)\n",
        "        output_valence = self.classifier_valence(h_out)\n",
        "        return output_arousal, output_valence\n",
        "\n"
      ],
      "metadata": {
        "id": "hka438rWUJ_T"
      },
      "id": "hka438rWUJ_T",
      "execution_count": 20,
      "outputs": []
    },
    {
      "cell_type": "code",
      "source": [
        "import torch\n",
        "import torch.optim as optim\n",
        "import torch.nn.functional as F\n",
        "from torch.utils.data import DataLoader\n",
        "from torch.nn import CrossEntropyLoss\n",
        "from tqdm import tqdm\n",
        "\n",
        "\n",
        "device = torch.device(\"cuda\" if torch.cuda.is_available() else \"cpu\")\n",
        "# device=torch.device(\"cpu\")\n",
        "model = EfficientNetLSTM(original_model, 256, 2).to(device)\n",
        "criterion = nn.CrossEntropyLoss()  # Suitable for classification with integer labels\n",
        "optimizer = optim.Adam(model.parameters(), lr=0.001)\n",
        "\n",
        "def train_one_epoch(model, train_loader, device, optimizer, criterion):\n",
        "    model.train()\n",
        "    total_loss = 0\n",
        "    total_correct = 0\n",
        "    total_samples = 0\n",
        "\n",
        "    for sequences, arousal, valence in train_loader:\n",
        "        sequences = sequences.to(device)\n",
        "        arousal_labels = arousal.to(device)\n",
        "        valence_labels = valence.to(device)\n",
        "\n",
        "\n",
        "        assert torch.all(arousal_labels >= 0) and torch.all(arousal_labels < 21), \"Arousal labels out of range\"\n",
        "        assert torch.all(valence_labels >= 0) and torch.all(valence_labels < 21), \"Valence labels out of range\"\n",
        "\n",
        "        optimizer.zero_grad()\n",
        "        outputs_arousal, outputs_valence = model(sequences)\n",
        "        assert not torch.any(torch.isnan(outputs_arousal)), \"NaNs in arousal outputs\"\n",
        "        assert not torch.any(torch.isnan(outputs_valence)), \"NaNs in valence outputs\"\n",
        "\n",
        "        loss_arousal = criterion(outputs_arousal, arousal_labels)\n",
        "        loss_valence = criterion(outputs_valence, valence_labels)\n",
        "        loss = loss_arousal + loss_valence  # Combining losses for backpropagation\n",
        "        loss.backward()\n",
        "        optimizer.step()\n",
        "\n",
        "        total_loss += loss.item()\n",
        "        _, predicted_arousal = outputs_arousal.max(1)\n",
        "        _, predicted_valence = outputs_valence.max(1)\n",
        "        total_correct += (predicted_arousal == arousal_labels).sum().item()\n",
        "        total_correct += (predicted_valence == valence_labels).sum().item()\n",
        "        total_samples += arousal_labels.size(0) + valence_labels.size(0)\n",
        "\n",
        "    avg_loss = total_loss / len(train_loader)\n",
        "    accuracy = total_correct / total_samples\n",
        "    return avg_loss, accuracy\n",
        "\n",
        "def validate(model, val_loader, device, criterion):\n",
        "    model.eval()\n",
        "    total_val_loss = 0\n",
        "    total_val_correct = 0\n",
        "    total_val_samples = 0\n",
        "\n",
        "    with torch.no_grad():\n",
        "        for sequences, arousal, valence in val_loader:\n",
        "            sequences = sequences.to(device)\n",
        "            arousal_labels = arousal.to(device)\n",
        "            valence_labels = valence.to(device)\n",
        "\n",
        "            assert torch.all(arousal_labels >= 0) and torch.all(arousal_labels < 21), \"Arousal labels out of range\"\n",
        "            assert torch.all(valence_labels >= 0) and torch.all(valence_labels < 21), \"Valence labels out of range\"\n",
        "\n",
        "            outputs_arousal, outputs_valence = model(sequences)\n",
        "            assert not torch.any(torch.isnan(outputs_arousal)), \"NaNs in arousal outputs\"\n",
        "            assert not torch.any(torch.isnan(outputs_valence)), \"NaNs in valence outputs\"\n",
        "            loss_arousal = criterion(outputs_arousal, arousal_labels)\n",
        "            loss_valence = criterion(outputs_valence, valence_labels)\n",
        "            loss = loss_arousal + loss_valence\n",
        "            total_val_loss += loss.item()\n",
        "\n",
        "            _, predicted_arousal = outputs_arousal.max(1)\n",
        "            _, predicted_valence = outputs_valence.max(1)\n",
        "            total_val_correct += (predicted_arousal == arousal_labels).sum().item()\n",
        "            total_val_correct += (predicted_valence == valence_labels).sum().item()\n",
        "            total_val_samples += arousal_labels.size(0) + valence_labels.size(0)\n",
        "\n",
        "    avg_val_loss = total_val_loss / len(val_loader)\n",
        "    val_accuracy = total_val_correct / total_val_samples\n",
        "    return avg_val_loss, val_accuracy\n"
      ],
      "metadata": {
        "id": "qCNjsBCPq0mT"
      },
      "id": "qCNjsBCPq0mT",
      "execution_count": 21,
      "outputs": []
    },
    {
      "cell_type": "markdown",
      "source": [
        "Dataset setup for actual training and validation. We are using half of the entire dataset."
      ],
      "metadata": {
        "id": "Y2SDLF0-u-nI"
      },
      "id": "Y2SDLF0-u-nI"
    },
    {
      "cell_type": "code",
      "source": [
        "from torch.utils.data import DataLoader, random_split, Subset\n",
        "# Use half of the dataset\n",
        "total_size = len(full_dataset)\n",
        "half_dataset_size = total_size // 2  # Use integer division to get half of the total size\n",
        "\n",
        "# Generate indices for the first half of the dataset\n",
        "indices = list(range(half_dataset_size))\n",
        "\n",
        "# Split indices into train and test sets\n",
        "train_indices, test_indices = train_test_split(indices, test_size=0.2, random_state=42)  # 80% train, 20% test of the half dataset\n",
        "\n",
        "# Split train indices further to create a validation set\n",
        "train_indices, val_indices = train_test_split(train_indices, test_size=0.25, random_state=42)  # Of the 80% train, split into 60% train, 20% validation\n",
        "\n",
        "# Create data subsets using the indices\n",
        "train_dataset = Subset(full_dataset, train_indices)\n",
        "val_dataset = Subset(full_dataset, val_indices)\n",
        "test_dataset = Subset(full_dataset, test_indices)\n",
        "\n",
        "# Outputs the sizes to confirm the splits\n",
        "print(f\"Total dataset: {total_size}\")\n",
        "print(f\"Total dataset used: {half_dataset_size}\")\n",
        "print(f\"Training dataset size: {len(train_dataset)}\")\n",
        "print(f\"Validation dataset size: {len(val_dataset)}\")\n",
        "print(f\"Test dataset size: {len(test_dataset)}\")\n",
        "\n",
        "# Create data loaders\n",
        "batch_size = 8\n",
        "# train_loader = DataLoader(train_dataset, batch_size=batch_size, shuffle=True)\n",
        "train_loader = DataLoader(train_dataset, batch_size=batch_size, shuffle=True, pin_memory=True)\n",
        "\n",
        "val_loader = DataLoader(val_dataset, batch_size=batch_size, shuffle=False, pin_memory=True)\n",
        "test_loader = DataLoader(test_dataset, batch_size=batch_size, shuffle=False, pin_memory=True)"
      ],
      "metadata": {
        "id": "-6ldyBvojW1e",
        "colab": {
          "base_uri": "https://localhost:8080/"
        },
        "outputId": "7e996f2a-d620-4263-9269-83746d154fc3"
      },
      "id": "-6ldyBvojW1e",
      "execution_count": 22,
      "outputs": [
        {
          "output_type": "stream",
          "name": "stdout",
          "text": [
            "Total dataset: 5525\n",
            "Total dataset used: 2762\n",
            "Training dataset size: 1656\n",
            "Validation dataset size: 553\n",
            "Test dataset size: 553\n"
          ]
        }
      ]
    },
    {
      "cell_type": "markdown",
      "source": [
        "### To save files and sessions"
      ],
      "metadata": {
        "id": "raLRRHTN3G_a"
      },
      "id": "raLRRHTN3G_a"
    },
    {
      "cell_type": "code",
      "source": [
        "\n",
        "path = '/content/drive/My Drive/Celestine/Sequence_based FER/'\n",
        "\n",
        "def save_to_drive(filename, data):\n",
        "    np.save(f'{path}{filename}.npy', data)\n",
        "\n",
        "def save_checkpoint(model, optimizer, epoch, loss, filename):\n",
        "    state = {\n",
        "        'epoch': epoch,\n",
        "        'state_dict': model.state_dict(),\n",
        "        'optimizer': optimizer.state_dict(),\n",
        "        'loss': loss,\n",
        "    }\n",
        "    torch.save(state, f'{path}{filename}.pth')"
      ],
      "metadata": {
        "id": "NM70t84s2xLs"
      },
      "id": "NM70t84s2xLs",
      "execution_count": 23,
      "outputs": []
    },
    {
      "cell_type": "code",
      "source": [
        "num_epochs = 30\n",
        "\n",
        "\n",
        "import time\n",
        "best_val_loss = float('inf')\n",
        "patience = 5\n",
        "trigger_times = 0\n",
        "train_losses = np.zeros(num_epochs)\n",
        "val_losses = np.zeros(num_epochs)\n",
        "train_accs = np.zeros(num_epochs)\n",
        "val_accs = np.zeros(num_epochs)\n",
        "\n",
        "\n",
        "for epoch in tqdm(range(num_epochs)):\n",
        "    start_time = time.time()\n",
        "    train_loss, train_accuracy = train_one_epoch(model, train_loader, device, optimizer, criterion)\n",
        "    val_loss, val_accuracy = validate(model, val_loader, device, criterion)\n",
        "    train_losses[epoch] = train_loss\n",
        "    val_losses[epoch] = val_loss\n",
        "    train_accs[epoch] = train_accuracy\n",
        "    val_accs[epoch] = val_accuracy\n",
        "\n",
        "    if epoch % 5 == 0:\n",
        "        save_checkpoint(model, optimizer, epoch, val_loss, 'EfficientNetLSTM_checkpoint')\n",
        "\n",
        "    epoch_time = time.time() - start_time\n",
        "\n",
        "    print(f'Epoch {epoch+1}: Train Loss: {train_loss:.4f}, Train Acc: {train_accuracy:.4f}, Val Loss: {val_loss:.4f}, Val Acc: {val_accuracy:.4f}')\n",
        "    print(f'Time elapsed: {epoch_time:.2f}s')\n",
        "    # Early stopping logic\n",
        "    if val_loss < best_val_loss:\n",
        "        best_val_loss = val_loss\n",
        "        trigger_times = 0\n",
        "    else:\n",
        "        trigger_times += 1\n",
        "        if trigger_times >= patience:\n",
        "            print(\"Early stopping!\")\n",
        "            break\n"
      ],
      "metadata": {
        "id": "wXb04QLGvOlv",
        "colab": {
          "base_uri": "https://localhost:8080/"
        },
        "outputId": "c00cf092-cbf3-45d5-9687-b7bf71278a92"
      },
      "execution_count": 24,
      "outputs": [
        {
          "output_type": "stream",
          "name": "stderr",
          "text": [
            "  3%|▎         | 1/30 [1:27:50<42:27:34, 5270.85s/it]"
          ]
        },
        {
          "output_type": "stream",
          "name": "stdout",
          "text": [
            "Epoch 1: Train Loss: 3.7163, Train Acc: 0.3774, Val Loss: 3.1879, Val Acc: 0.4855\n",
            "Time elapsed: 5270.85s\n"
          ]
        },
        {
          "output_type": "stream",
          "name": "stderr",
          "text": [
            "\r  7%|▋         | 2/30 [1:39:15<20:00:40, 2572.86s/it]"
          ]
        },
        {
          "output_type": "stream",
          "name": "stdout",
          "text": [
            "Epoch 2: Train Loss: 2.7984, Train Acc: 0.5190, Val Loss: 2.3192, Val Acc: 0.5913\n",
            "Time elapsed: 684.27s\n"
          ]
        },
        {
          "output_type": "stream",
          "name": "stderr",
          "text": [
            "\r 10%|█         | 3/30 [1:50:39<12:49:41, 1710.44s/it]"
          ]
        },
        {
          "output_type": "stream",
          "name": "stdout",
          "text": [
            "Epoch 3: Train Loss: 2.4071, Train Acc: 0.5848, Val Loss: 2.1703, Val Acc: 0.6356\n",
            "Time elapsed: 684.16s\n"
          ]
        },
        {
          "output_type": "stream",
          "name": "stderr",
          "text": [
            "\r 13%|█▎        | 4/30 [2:02:04<9:25:48, 1305.71s/it] "
          ]
        },
        {
          "output_type": "stream",
          "name": "stdout",
          "text": [
            "Epoch 4: Train Loss: 2.2459, Train Acc: 0.6096, Val Loss: 2.2883, Val Acc: 0.6076\n",
            "Time elapsed: 685.26s\n"
          ]
        },
        {
          "output_type": "stream",
          "name": "stderr",
          "text": [
            "\r 17%|█▋        | 5/30 [2:13:26<7:30:23, 1080.93s/it]"
          ]
        },
        {
          "output_type": "stream",
          "name": "stdout",
          "text": [
            "Epoch 5: Train Loss: 1.8882, Train Acc: 0.6652, Val Loss: 2.0719, Val Acc: 0.6248\n",
            "Time elapsed: 682.36s\n"
          ]
        },
        {
          "output_type": "stream",
          "name": "stderr",
          "text": [
            "\r 20%|██        | 6/30 [2:24:52<6:18:37, 946.56s/it] "
          ]
        },
        {
          "output_type": "stream",
          "name": "stdout",
          "text": [
            "Epoch 6: Train Loss: 2.1403, Train Acc: 0.6313, Val Loss: 2.0419, Val Acc: 0.6157\n",
            "Time elapsed: 685.74s\n"
          ]
        },
        {
          "output_type": "stream",
          "name": "stderr",
          "text": [
            "\r 23%|██▎       | 7/30 [2:36:17<5:30:06, 861.15s/it]"
          ]
        },
        {
          "output_type": "stream",
          "name": "stdout",
          "text": [
            "Epoch 7: Train Loss: 1.6747, Train Acc: 0.7026, Val Loss: 1.6761, Val Acc: 0.7143\n",
            "Time elapsed: 685.30s\n"
          ]
        },
        {
          "output_type": "stream",
          "name": "stderr",
          "text": [
            "\r 27%|██▋       | 8/30 [2:47:41<4:55:03, 804.72s/it]"
          ]
        },
        {
          "output_type": "stream",
          "name": "stdout",
          "text": [
            "Epoch 8: Train Loss: 1.6032, Train Acc: 0.7117, Val Loss: 1.5635, Val Acc: 0.7206\n",
            "Time elapsed: 683.88s\n"
          ]
        },
        {
          "output_type": "stream",
          "name": "stderr",
          "text": [
            "\r 30%|███       | 9/30 [2:59:05<4:28:24, 766.86s/it]"
          ]
        },
        {
          "output_type": "stream",
          "name": "stdout",
          "text": [
            "Epoch 9: Train Loss: 1.4213, Train Acc: 0.7346, Val Loss: 1.3698, Val Acc: 0.7378\n",
            "Time elapsed: 683.63s\n"
          ]
        },
        {
          "output_type": "stream",
          "name": "stderr",
          "text": [
            "\r 33%|███▎      | 10/30 [3:10:29<4:07:02, 741.15s/it]"
          ]
        },
        {
          "output_type": "stream",
          "name": "stdout",
          "text": [
            "Epoch 10: Train Loss: 1.5605, Train Acc: 0.7107, Val Loss: 2.2087, Val Acc: 0.6655\n",
            "Time elapsed: 683.57s\n"
          ]
        },
        {
          "output_type": "stream",
          "name": "stderr",
          "text": [
            "\r 37%|███▋      | 11/30 [3:21:54<3:49:16, 724.05s/it]"
          ]
        },
        {
          "output_type": "stream",
          "name": "stdout",
          "text": [
            "Epoch 11: Train Loss: 1.5309, Train Acc: 0.7177, Val Loss: 1.3437, Val Acc: 0.7351\n",
            "Time elapsed: 685.28s\n"
          ]
        },
        {
          "output_type": "stream",
          "name": "stderr",
          "text": [
            "\r 40%|████      | 12/30 [3:33:18<3:33:33, 711.84s/it]"
          ]
        },
        {
          "output_type": "stream",
          "name": "stdout",
          "text": [
            "Epoch 12: Train Loss: 1.1191, Train Acc: 0.7893, Val Loss: 1.3260, Val Acc: 0.7559\n",
            "Time elapsed: 683.91s\n"
          ]
        },
        {
          "output_type": "stream",
          "name": "stderr",
          "text": [
            "\r 43%|████▎     | 13/30 [3:44:40<3:19:10, 702.99s/it]"
          ]
        },
        {
          "output_type": "stream",
          "name": "stdout",
          "text": [
            "Epoch 13: Train Loss: 1.1299, Train Acc: 0.7911, Val Loss: 1.0025, Val Acc: 0.7966\n",
            "Time elapsed: 682.61s\n"
          ]
        },
        {
          "output_type": "stream",
          "name": "stderr",
          "text": [
            "\r 47%|████▋     | 14/30 [3:56:04<3:05:54, 697.15s/it]"
          ]
        },
        {
          "output_type": "stream",
          "name": "stdout",
          "text": [
            "Epoch 14: Train Loss: 1.0532, Train Acc: 0.7986, Val Loss: 1.0196, Val Acc: 0.7993\n",
            "Time elapsed: 683.67s\n"
          ]
        },
        {
          "output_type": "stream",
          "name": "stderr",
          "text": [
            "\r 50%|█████     | 15/30 [4:07:27<2:53:14, 692.97s/it]"
          ]
        },
        {
          "output_type": "stream",
          "name": "stdout",
          "text": [
            "Epoch 15: Train Loss: 1.0480, Train Acc: 0.8040, Val Loss: 1.1112, Val Acc: 0.8002\n",
            "Time elapsed: 683.27s\n"
          ]
        },
        {
          "output_type": "stream",
          "name": "stderr",
          "text": [
            "\r 53%|█████▎    | 16/30 [4:18:52<2:41:07, 690.56s/it]"
          ]
        },
        {
          "output_type": "stream",
          "name": "stdout",
          "text": [
            "Epoch 16: Train Loss: 0.9556, Train Acc: 0.8228, Val Loss: 1.7775, Val Acc: 0.6944\n",
            "Time elapsed: 684.95s\n"
          ]
        },
        {
          "output_type": "stream",
          "name": "stderr",
          "text": [
            "\r 57%|█████▋    | 17/30 [4:30:17<2:29:16, 688.93s/it]"
          ]
        },
        {
          "output_type": "stream",
          "name": "stdout",
          "text": [
            "Epoch 17: Train Loss: 1.1154, Train Acc: 0.8022, Val Loss: 2.1291, Val Acc: 0.6881\n",
            "Time elapsed: 685.13s\n"
          ]
        },
        {
          "output_type": "stream",
          "name": "stderr",
          "text": [
            "\r 60%|██████    | 18/30 [4:41:43<2:17:34, 687.90s/it]"
          ]
        },
        {
          "output_type": "stream",
          "name": "stdout",
          "text": [
            "Epoch 18: Train Loss: 0.9204, Train Acc: 0.8294, Val Loss: 0.8466, Val Acc: 0.8472\n",
            "Time elapsed: 685.53s\n"
          ]
        },
        {
          "output_type": "stream",
          "name": "stderr",
          "text": [
            "\r 63%|██████▎   | 19/30 [4:53:12<2:06:10, 688.23s/it]"
          ]
        },
        {
          "output_type": "stream",
          "name": "stdout",
          "text": [
            "Epoch 19: Train Loss: 0.8483, Train Acc: 0.8478, Val Loss: 0.8871, Val Acc: 0.8146\n",
            "Time elapsed: 688.99s\n"
          ]
        },
        {
          "output_type": "stream",
          "name": "stderr",
          "text": [
            "\r 67%|██████▋   | 20/30 [5:04:40<1:54:40, 688.07s/it]"
          ]
        },
        {
          "output_type": "stream",
          "name": "stdout",
          "text": [
            "Epoch 20: Train Loss: 0.8213, Train Acc: 0.8448, Val Loss: 0.6980, Val Acc: 0.8526\n",
            "Time elapsed: 687.69s\n"
          ]
        },
        {
          "output_type": "stream",
          "name": "stderr",
          "text": [
            "\r 70%|███████   | 21/30 [5:16:05<1:43:06, 687.38s/it]"
          ]
        },
        {
          "output_type": "stream",
          "name": "stdout",
          "text": [
            "Epoch 21: Train Loss: 0.8816, Train Acc: 0.8433, Val Loss: 1.6828, Val Acc: 0.7532\n",
            "Time elapsed: 685.78s\n"
          ]
        },
        {
          "output_type": "stream",
          "name": "stderr",
          "text": [
            "\r 73%|███████▎  | 22/30 [5:27:30<1:31:33, 686.67s/it]"
          ]
        },
        {
          "output_type": "stream",
          "name": "stdout",
          "text": [
            "Epoch 22: Train Loss: 0.9148, Train Acc: 0.8391, Val Loss: 0.8099, Val Acc: 0.8463\n",
            "Time elapsed: 685.01s\n"
          ]
        },
        {
          "output_type": "stream",
          "name": "stderr",
          "text": [
            "\r 77%|███████▋  | 23/30 [5:38:56<1:20:05, 686.48s/it]"
          ]
        },
        {
          "output_type": "stream",
          "name": "stdout",
          "text": [
            "Epoch 23: Train Loss: 0.6759, Train Acc: 0.8765, Val Loss: 0.6905, Val Acc: 0.8698\n",
            "Time elapsed: 686.03s\n"
          ]
        },
        {
          "output_type": "stream",
          "name": "stderr",
          "text": [
            "\r 80%|████████  | 24/30 [5:50:22<1:08:37, 686.32s/it]"
          ]
        },
        {
          "output_type": "stream",
          "name": "stdout",
          "text": [
            "Epoch 24: Train Loss: 0.7410, Train Acc: 0.8647, Val Loss: 0.8457, Val Acc: 0.8418\n",
            "Time elapsed: 685.94s\n"
          ]
        },
        {
          "output_type": "stream",
          "name": "stderr",
          "text": [
            "\r 83%|████████▎ | 25/30 [6:01:54<57:18, 687.77s/it]  "
          ]
        },
        {
          "output_type": "stream",
          "name": "stdout",
          "text": [
            "Epoch 25: Train Loss: 0.6805, Train Acc: 0.8801, Val Loss: 1.1251, Val Acc: 0.8210\n",
            "Time elapsed: 691.17s\n"
          ]
        },
        {
          "output_type": "stream",
          "name": "stderr",
          "text": [
            "\r 87%|████████▋ | 26/30 [6:13:34<46:06, 691.57s/it]"
          ]
        },
        {
          "output_type": "stream",
          "name": "stdout",
          "text": [
            "Epoch 26: Train Loss: 0.7278, Train Acc: 0.8653, Val Loss: 0.6461, Val Acc: 0.8662\n",
            "Time elapsed: 700.43s\n"
          ]
        },
        {
          "output_type": "stream",
          "name": "stderr",
          "text": [
            "\r 90%|█████████ | 27/30 [6:25:17<34:45, 695.14s/it]"
          ]
        },
        {
          "output_type": "stream",
          "name": "stdout",
          "text": [
            "Epoch 27: Train Loss: 0.6801, Train Acc: 0.8841, Val Loss: 0.7421, Val Acc: 0.8698\n",
            "Time elapsed: 703.45s\n"
          ]
        },
        {
          "output_type": "stream",
          "name": "stderr",
          "text": [
            "\r 93%|█████████▎| 28/30 [6:36:55<23:11, 695.79s/it]"
          ]
        },
        {
          "output_type": "stream",
          "name": "stdout",
          "text": [
            "Epoch 28: Train Loss: 0.6686, Train Acc: 0.8750, Val Loss: 0.5520, Val Acc: 0.9014\n",
            "Time elapsed: 697.30s\n"
          ]
        },
        {
          "output_type": "stream",
          "name": "stderr",
          "text": [
            "\r 97%|█████████▋| 29/30 [6:48:19<11:32, 692.39s/it]"
          ]
        },
        {
          "output_type": "stream",
          "name": "stdout",
          "text": [
            "Epoch 29: Train Loss: 0.5226, Train Acc: 0.9022, Val Loss: 0.8242, Val Acc: 0.8517\n",
            "Time elapsed: 684.47s\n"
          ]
        },
        {
          "output_type": "stream",
          "name": "stderr",
          "text": [
            "100%|██████████| 30/30 [6:59:45<00:00, 839.50s/it]"
          ]
        },
        {
          "output_type": "stream",
          "name": "stdout",
          "text": [
            "Epoch 30: Train Loss: 0.5813, Train Acc: 0.8940, Val Loss: 0.6619, Val Acc: 0.8689\n",
            "Time elapsed: 685.41s\n"
          ]
        },
        {
          "output_type": "stream",
          "name": "stderr",
          "text": [
            "\n"
          ]
        }
      ],
      "id": "wXb04QLGvOlv"
    },
    {
      "cell_type": "code",
      "source": [
        "# Save losses and accuracies\n",
        "save_to_drive('train_losses', train_losses)\n",
        "save_to_drive('val_losses', val_losses)\n",
        "save_to_drive('train_accuracy', train_accs)\n",
        "save_to_drive('val_accuracy', val_accs)"
      ],
      "metadata": {
        "id": "OhZaqrgmv5AK"
      },
      "id": "OhZaqrgmv5AK",
      "execution_count": 25,
      "outputs": []
    },
    {
      "cell_type": "code",
      "source": [
        "model_path = os.path.join(folder_path, 'EfficientNetLSTM.pt')\n",
        "torch.save(model.state_dict(), model_path)"
      ],
      "metadata": {
        "id": "vAMuDg789kX2"
      },
      "id": "vAMuDg789kX2",
      "execution_count": 26,
      "outputs": []
    },
    {
      "cell_type": "code",
      "source": [
        "import torch\n",
        "import matplotlib.pyplot as plt\n",
        "from sklearn.metrics import accuracy_score, precision_score, recall_score, f1_score\n",
        "\n",
        "def predict(model, test_loader, device):\n",
        "    model.eval()\n",
        "    all_predictions_arousal = []\n",
        "    all_predictions_valence = []\n",
        "    with torch.no_grad():\n",
        "        for sequences, _, _ in test_loader:  # Assuming labels are not needed here\n",
        "            sequences = sequences.to(device)\n",
        "            arousal_outputs, valence_outputs = model(sequences)\n",
        "            _, predicted_arousal = torch.max(arousal_outputs, 1)\n",
        "            _, predicted_valence = torch.max(valence_outputs, 1)\n",
        "\n",
        "            # Convert predictions from 0-20 back to -10 to 10\n",
        "            converted_arousal = (predicted_arousal - 10).cpu().tolist()\n",
        "            converted_valence = (predicted_valence - 10).cpu().tolist()\n",
        "\n",
        "            all_predictions_arousal.extend(converted_arousal)\n",
        "            all_predictions_valence.extend(converted_valence)\n",
        "\n",
        "    return all_predictions_arousal, all_predictions_valence\n",
        "\n",
        "def extract_true_labels(test_loader):\n",
        "    all_arousal_labels = []\n",
        "    all_valence_labels = []\n",
        "\n",
        "    for _, arousal_labels, valence_labels in test_loader:\n",
        "        # Convert labels back to the range of -10 to 10\n",
        "        converted_arousal = arousal_labels.numpy() - 10\n",
        "        converted_valence = valence_labels.numpy() - 10\n",
        "\n",
        "        all_arousal_labels.extend(converted_arousal)\n",
        "        all_valence_labels.extend(converted_valence)\n",
        "\n",
        "    return all_arousal_labels, all_valence_labels\n",
        "\n",
        "\n",
        "\n",
        "\n",
        "\n"
      ],
      "metadata": {
        "id": "o9SvH_6KPyBW"
      },
      "id": "o9SvH_6KPyBW",
      "execution_count": 101,
      "outputs": []
    },
    {
      "cell_type": "code",
      "source": [
        "\n",
        "import matplotlib.pyplot as plt\n",
        "from sklearn.metrics import accuracy_score, precision_score, recall_score, f1_score, confusion_matrix\n",
        "import itertools\n",
        "\n",
        "# Function to load the model\n",
        "def load_model(model_path, device):\n",
        "    model = EfficientNetLSTM(original_model, 256, 2)\n",
        "    state_dict = torch.load(model_path)  # Load the state dict\n",
        "    model.load_state_dict(state_dict)  # Load the state dict into the model\n",
        "    model = model.to(device)  # Move the model to the device (CPU or GPU)\n",
        "    return model\n",
        "\n",
        "# Function to load losses and accuracies\n",
        "def load_metrics(path_file):\n",
        "    losses = np.load(f'/content/drive/MyDrive/Celestine/Sequence_based FER/{path_file}')\n",
        "    accuracies = np.load(f'/content/drive/MyDrive/Celestine/Sequence_based FER/{path_file}')\n",
        "    return losses, accuracies\n",
        "\n",
        "# Setup DataLoader for test dataset\n",
        "def setup_test_loader(test_data_path, batch_size, transform):\n",
        "    test_dataset = AFEWVADataset(test_data_path, transform=transform)\n",
        "    test_loader = DataLoader(test_dataset, batch_size=batch_size, shuffle=False)\n",
        "    return test_loader\n",
        "\n",
        "\n",
        "\n"
      ],
      "metadata": {
        "id": "3V7fY7a8QGKf"
      },
      "id": "3V7fY7a8QGKf",
      "execution_count": 102,
      "outputs": []
    },
    {
      "cell_type": "code",
      "source": [
        "# Load training/validation losses and accuracies\n",
        "# train_losses = load_metrics('train_losses.npy')\n",
        "# val_losses = load_metrics('val_losses.npy')\n",
        "# train_accs = load_metrics('train_accuracy.npy')\n",
        "# val_accs = load_metrics('val_accuracy.npy')\n",
        "\n",
        "\n",
        "# Plot training/validation loss and accuracy\n",
        "# plot_metrics(train_losses, val_losses, train_accs, val_accs)"
      ],
      "metadata": {
        "id": "iBI70r0Nek2x"
      },
      "id": "iBI70r0Nek2x",
      "execution_count": 103,
      "outputs": []
    },
    {
      "cell_type": "code",
      "source": [
        "model = load_model(model_path, device)\n",
        "predictions_arousal, predictions_valence = predict(model, test_loader, device)"
      ],
      "metadata": {
        "id": "RE2BPmVBeh_6"
      },
      "id": "RE2BPmVBeh_6",
      "execution_count": 104,
      "outputs": []
    },
    {
      "cell_type": "code",
      "source": [
        "true_arousal_labels, true_valence_labels = extract_true_labels(test_loader)\n",
        "\n",
        "# Checking for mismatch\n",
        "print(\"Arousal - Predictions:\", len(predictions_arousal), \"Labels:\", len(true_arousal_labels))\n",
        "print(\"Valence - Predictions:\", len(predictions_valence), \"Labels:\", len(true_valence_labels))\n",
        "\n",
        "# Calculate accuracies if counts match\n",
        "if len(predictions_arousal) == len(true_arousal_labels) and len(predictions_valence) == len(true_valence_labels):\n",
        "    accuracy_arousal = accuracy_score(true_arousal_labels, predictions_arousal)\n",
        "    accuracy_valence = accuracy_score(true_valence_labels, predictions_valence)\n",
        "    print(f'Arousal Accuracy: {accuracy_arousal:.4f}')\n",
        "    print(f'Valence Accuracy: {accuracy_valence:.4f}')\n",
        "else:\n",
        "    print(\"Mismatch in the number of predictions and true labels!\")"
      ],
      "metadata": {
        "colab": {
          "base_uri": "https://localhost:8080/"
        },
        "id": "hRlqeFoQuOoh",
        "outputId": "20468282-da18-461b-ebdd-1470235d2af5"
      },
      "id": "hRlqeFoQuOoh",
      "execution_count": 105,
      "outputs": [
        {
          "output_type": "stream",
          "name": "stdout",
          "text": [
            "Arousal - Predictions: 553 Labels: 553\n",
            "Valence - Predictions: 553 Labels: 553\n",
            "Arousal Accuracy: 0.8517\n",
            "Valence Accuracy: 0.9222\n"
          ]
        }
      ]
    },
    {
      "cell_type": "code",
      "source": [
        "print(predictions_arousal)\n",
        "print(true_arousal_labels)"
      ],
      "metadata": {
        "colab": {
          "base_uri": "https://localhost:8080/"
        },
        "id": "LpsBvQOBwRxd",
        "outputId": "fece6af8-75e1-4ad1-bdbf-555902ee1b4f"
      },
      "id": "LpsBvQOBwRxd",
      "execution_count": 106,
      "outputs": [
        {
          "output_type": "stream",
          "name": "stdout",
          "text": [
            "[4, 1, 7, 2, 0, 0, 3, 3, 4, 2, 3, 2, 6, 6, 1, 1, 1, 2, 0, 2, 0, 2, -2, 2, 2, 4, 2, 2, 2, 3, 0, 4, 0, 7, 2, 2, 2, 4, 4, 3, 0, 0, 1, 3, -1, 3, 5, 3, 4, 0, 6, 2, 2, 4, 5, 7, -2, 1, 2, 0, 2, 4, 0, 2, 2, 1, 5, 4, 2, 2, 2, 3, 2, 4, 4, 6, 2, 1, 5, 0, 2, 7, 0, -2, 0, 2, 3, 5, -1, 3, 2, -2, 3, 3, 3, 2, 2, 0, 0, 2, -2, 3, 3, 4, 3, 1, 4, 0, 6, 1, 7, 8, 4, 4, 0, 7, 2, 3, 3, 1, 1, 0, -2, 2, 2, 5, -1, 0, 1, 2, 7, 3, 2, 4, 3, 2, 2, 2, 2, 2, 2, 2, 2, 2, -2, 1, 2, 0, 0, -2, 5, 0, 0, 4, 1, 4, 2, 4, -2, 1, 2, 2, 4, 1, 4, 2, 3, 3, 0, 5, 2, 3, 2, 3, 3, 3, 1, -2, 7, 2, 3, 2, 7, 4, 0, 2, 3, 2, 2, 4, 2, 8, 2, 0, 1, 7, 3, -2, 6, 3, 2, 3, 4, -1, 3, 0, 5, 5, 2, 2, 1, 5, 3, -1, 4, 3, 3, 5, 3, 3, 3, 0, 2, 2, -2, 3, 2, 2, 7, 2, 3, 0, 2, 0, 2, 1, -2, 0, 2, -2, 4, 0, -2, 6, 2, 1, 5, 0, 4, 4, 4, 1, 2, 4, 5, 6, 7, 2, 2, 2, 5, 0, 2, 0, 1, 7, 4, 7, 2, -2, 4, 1, 5, 4, -1, 4, -1, 0, 6, 2, 2, 7, 4, 3, 0, 7, 7, 3, -2, 3, 1, 4, 3, 0, 2, 6, -2, 2, 2, 2, 0, 1, 4, 3, 7, 1, 4, 4, 0, 4, 4, 1, 3, 2, 4, -1, 2, 3, 0, 5, 7, 2, 3, 0, 7, 4, 4, 4, 2, 2, 7, 4, -2, 5, 6, 2, 4, 4, 1, 2, 3, -2, 4, 3, 3, 0, 0, 5, 4, 2, 4, 1, 0, 2, 3, 7, 5, 4, 4, 7, 5, 5, 4, 3, 5, 3, 4, 1, 2, 0, 7, 1, -2, 0, 2, 2, 7, 2, 1, 2, 3, 4, 2, 2, 0, 2, 0, 1, 3, 2, 3, 1, 1, 2, 2, 0, 3, 5, 2, 2, 8, 2, 2, 0, 1, 0, 1, 6, 1, 2, 4, 5, 0, 4, 3, 0, 5, 2, 4, 3, 2, 3, 2, 6, 5, 8, 3, 4, 4, 2, 2, 7, -1, -2, 2, 7, 3, 2, 5, 2, 4, 2, -2, 0, 2, 3, 3, 1, 2, 3, 2, 4, 2, 3, 1, 0, 1, 3, 0, 1, 0, 2, 5, -2, 6, 7, 5, 2, 2, 7, 2, -2, 1, 0, 6, 5, 4, -2, 3, 2, 6, 6, 0, 1, 2, 0, 4, 1, 7, 0, 2, 2, 2, 1, 5, 2, 2, 2, 1, 3, -2, 0, 2, 3, 6, 6, 2, 5, 3, 1, 2, 3, 5, 2, 2, 4, 0, 2, 1, 4, 1, 3, 0, 0, 2, 4, 1, 2, 5, 1, 3, 5, 5, 4, -1, 2, 6, 2, 0, 7, 2, 2, 0, 1, 7, 2, 1, 0, 3, 2, 6, 0, -2]\n",
            "[4, 0, 7, 2, 0, 0, 3, 3, 4, 3, 3, 2, 6, 6, 1, 1, 1, 2, 0, 2, 0, 3, -1, 2, 2, 3, 2, 2, 2, 3, 0, 4, 0, 7, 2, 2, 1, 5, 4, 4, 0, 0, 1, 3, -1, 3, 5, 3, 4, 0, 6, 2, 1, 3, 5, 7, -1, 1, 2, 0, 2, 4, 0, 2, 2, 1, 4, 4, 2, 2, 2, 3, 3, 4, 4, 6, 2, 1, 5, 0, 3, 5, 0, -2, 0, 2, 3, 4, 5, 3, 2, -1, 3, 3, 3, 2, 2, 0, 0, 2, -2, 3, 3, 4, 3, 1, 4, 0, 5, 0, 6, 8, 4, 4, 0, 6, 3, 3, 3, 1, 1, 0, -2, 2, 2, 5, -1, 0, 1, 2, 7, 3, 2, 4, 3, 2, 2, 2, 2, 2, 2, 2, 1, 2, -2, 1, 2, 0, 0, -2, 6, 0, 0, 3, 1, 4, 2, 4, -2, 1, 2, 2, 4, 0, 4, 2, 3, 3, 0, 4, 3, 3, 2, 3, 3, 3, 1, -2, 7, 2, 3, 2, 7, 4, 0, 2, 3, 2, 2, 4, 2, 8, 2, 0, 1, 7, 3, -2, 6, 3, 2, 3, 4, -1, 3, 0, 5, 5, 2, 2, 1, 4, 3, -1, 5, 3, 3, 4, 3, 3, 3, 0, 2, 2, -2, 3, 2, 2, 6, 2, 3, 0, 2, 0, 2, 1, -2, 0, 2, -2, 5, 0, -2, 4, 2, 1, 5, 0, 3, 4, 4, 1, 2, 4, 5, 6, 6, 2, 2, 2, 5, 0, 2, 0, 1, 6, 4, 7, 2, -2, 4, 1, 5, 4, -1, 4, -1, 0, 6, 1, 3, 7, 4, 3, 0, 5, 5, 3, -2, 2, 0, 4, 3, 0, 2, 6, -2, 2, 2, 2, 0, 1, 4, 3, 6, 0, 4, 4, 0, 4, 4, 1, 3, 2, 4, -1, 2, 3, 0, 5, 7, 2, 2, 0, 7, 4, 4, 4, 1, 2, 6, 4, -2, 4, 6, 2, 4, 4, 0, 2, 3, -2, 3, 3, 3, 0, 0, 5, 4, 2, 4, 1, 0, 2, 2, 7, 5, 4, 3, 6, 5, 5, 4, 3, 5, 3, 4, 1, 2, 0, 6, 1, -2, 0, 2, 2, 7, 2, 2, 2, 3, 4, 2, 2, 0, 2, 0, 1, 3, 2, 3, 1, 1, 2, 1, 0, 2, 5, 2, 2, 8, 2, 2, 0, 1, 0, 1, 6, 1, 2, 4, 5, 0, 4, 3, 0, 5, 2, 4, 3, 2, 3, 2, 6, 5, 8, 3, 4, 4, 2, 2, 7, -1, -1, 2, 7, 3, 2, 4, 2, 4, 1, -2, 0, 2, 3, 3, 1, 2, 3, 2, 4, 2, 3, 1, 0, 0, 3, 0, 1, 0, 2, 5, -2, 6, 5, 3, 2, 2, 7, 2, -2, 0, 0, 6, 4, 4, -2, 3, 1, 5, 5, 0, 1, 2, 0, 4, 1, 6, 0, 2, 2, 2, 1, 5, 2, 2, 2, 1, 3, -2, 0, 2, 3, 6, 5, 2, 6, 3, 1, 2, 3, 6, 2, 2, 5, 0, 2, 1, 5, 1, 3, 0, 0, 2, 4, 1, 2, 5, 1, 3, 5, 4, 5, -1, 2, 5, 2, 0, 7, 1, 1, 0, 1, 7, 2, 1, 0, 3, 2, 4, 0, -2]\n"
          ]
        }
      ]
    },
    {
      "cell_type": "code",
      "source": [
        "def plot_histograms(valence_predictions, valence_ground_truth, arousal_predictions, arousal_ground_truth, class_names):\n",
        "    # Define bins for the histogram based on the class names provided\n",
        "    bins = np.arange(min(class_names) - 0.5, max(class_names) + 1.5)\n",
        "\n",
        "    # Setup the figure and subplots\n",
        "    plt.figure(figsize=(24, 6))  # Wider figure to accommodate two subplots\n",
        "\n",
        "    # Plot for Valence\n",
        "    plt.subplot(1, 2, 1)  # 1 row, 2 columns, 1st subplot\n",
        "    plt.hist(valence_predictions, bins, alpha=0.7, label='Valence Predictions', color='blue', rwidth=0.8)\n",
        "    plt.hist(valence_ground_truth, bins, alpha=0.7, label='Valence Ground Truth', color='green', rwidth=0.8)\n",
        "    plt.xlabel('Valence Classes')\n",
        "    plt.ylabel('Frequency')\n",
        "    plt.title('Comparison of Valence Predictions and Ground Truth')\n",
        "    plt.xticks(ticks=np.arange(min(class_names), max(class_names)+1), labels=class_names, rotation=45)\n",
        "    plt.legend()\n",
        "\n",
        "    # Plot for Arousal\n",
        "    plt.subplot(1, 2, 2)  # 1 row, 2 columns, 2nd subplot\n",
        "    plt.hist(arousal_predictions, bins, alpha=0.7, label='Arousal Predictions', color='orange', rwidth=0.8)\n",
        "    plt.hist(arousal_ground_truth, bins, alpha=0.7, label='Arousal Ground Truth', color='green', rwidth=0.8)\n",
        "    plt.xlabel('Arousal Classes')\n",
        "    plt.ylabel('Frequency')\n",
        "    plt.title('Comparison of Arousal Predictions and Ground Truth')\n",
        "    plt.xticks(ticks=np.arange(min(class_names), max(class_names)+1), labels=class_names, rotation=45)\n",
        "    plt.legend()\n",
        "\n",
        "    plt.show()\n",
        "\n",
        "\n",
        "print(\"True Arousal Labels:\", true_arousal_labels)\n",
        "print(\"True Valence Labels:\", true_valence_labels)\n",
        "\n",
        "\n",
        "class_names = list(range(-10, 11))  # Classes from -10 to 10 for both valence and arousal\n",
        "valence_predictions = predictions_valence\n",
        "valence_ground_truth = true_valence_labels\n",
        "arousal_predictions = predictions_arousal\n",
        "arousal_ground_truth = true_arousal_labels\n",
        "\n",
        "plot_histograms(valence_predictions, valence_ground_truth, arousal_predictions, arousal_ground_truth, class_names)"
      ],
      "metadata": {
        "colab": {
          "base_uri": "https://localhost:8080/",
          "height": 350
        },
        "id": "VkkBrjr-ZmO5",
        "outputId": "15b539ac-be09-45dd-e9fc-cdf82a946ed3"
      },
      "id": "VkkBrjr-ZmO5",
      "execution_count": 110,
      "outputs": [
        {
          "output_type": "stream",
          "name": "stdout",
          "text": [
            "True Arousal Labels: [4, 0, 7, 2, 0, 0, 3, 3, 4, 3, 3, 2, 6, 6, 1, 1, 1, 2, 0, 2, 0, 3, -1, 2, 2, 3, 2, 2, 2, 3, 0, 4, 0, 7, 2, 2, 1, 5, 4, 4, 0, 0, 1, 3, -1, 3, 5, 3, 4, 0, 6, 2, 1, 3, 5, 7, -1, 1, 2, 0, 2, 4, 0, 2, 2, 1, 4, 4, 2, 2, 2, 3, 3, 4, 4, 6, 2, 1, 5, 0, 3, 5, 0, -2, 0, 2, 3, 4, 5, 3, 2, -1, 3, 3, 3, 2, 2, 0, 0, 2, -2, 3, 3, 4, 3, 1, 4, 0, 5, 0, 6, 8, 4, 4, 0, 6, 3, 3, 3, 1, 1, 0, -2, 2, 2, 5, -1, 0, 1, 2, 7, 3, 2, 4, 3, 2, 2, 2, 2, 2, 2, 2, 1, 2, -2, 1, 2, 0, 0, -2, 6, 0, 0, 3, 1, 4, 2, 4, -2, 1, 2, 2, 4, 0, 4, 2, 3, 3, 0, 4, 3, 3, 2, 3, 3, 3, 1, -2, 7, 2, 3, 2, 7, 4, 0, 2, 3, 2, 2, 4, 2, 8, 2, 0, 1, 7, 3, -2, 6, 3, 2, 3, 4, -1, 3, 0, 5, 5, 2, 2, 1, 4, 3, -1, 5, 3, 3, 4, 3, 3, 3, 0, 2, 2, -2, 3, 2, 2, 6, 2, 3, 0, 2, 0, 2, 1, -2, 0, 2, -2, 5, 0, -2, 4, 2, 1, 5, 0, 3, 4, 4, 1, 2, 4, 5, 6, 6, 2, 2, 2, 5, 0, 2, 0, 1, 6, 4, 7, 2, -2, 4, 1, 5, 4, -1, 4, -1, 0, 6, 1, 3, 7, 4, 3, 0, 5, 5, 3, -2, 2, 0, 4, 3, 0, 2, 6, -2, 2, 2, 2, 0, 1, 4, 3, 6, 0, 4, 4, 0, 4, 4, 1, 3, 2, 4, -1, 2, 3, 0, 5, 7, 2, 2, 0, 7, 4, 4, 4, 1, 2, 6, 4, -2, 4, 6, 2, 4, 4, 0, 2, 3, -2, 3, 3, 3, 0, 0, 5, 4, 2, 4, 1, 0, 2, 2, 7, 5, 4, 3, 6, 5, 5, 4, 3, 5, 3, 4, 1, 2, 0, 6, 1, -2, 0, 2, 2, 7, 2, 2, 2, 3, 4, 2, 2, 0, 2, 0, 1, 3, 2, 3, 1, 1, 2, 1, 0, 2, 5, 2, 2, 8, 2, 2, 0, 1, 0, 1, 6, 1, 2, 4, 5, 0, 4, 3, 0, 5, 2, 4, 3, 2, 3, 2, 6, 5, 8, 3, 4, 4, 2, 2, 7, -1, -1, 2, 7, 3, 2, 4, 2, 4, 1, -2, 0, 2, 3, 3, 1, 2, 3, 2, 4, 2, 3, 1, 0, 0, 3, 0, 1, 0, 2, 5, -2, 6, 5, 3, 2, 2, 7, 2, -2, 0, 0, 6, 4, 4, -2, 3, 1, 5, 5, 0, 1, 2, 0, 4, 1, 6, 0, 2, 2, 2, 1, 5, 2, 2, 2, 1, 3, -2, 0, 2, 3, 6, 5, 2, 6, 3, 1, 2, 3, 6, 2, 2, 5, 0, 2, 1, 5, 1, 3, 0, 0, 2, 4, 1, 2, 5, 1, 3, 5, 4, 5, -1, 2, 5, 2, 0, 7, 1, 1, 0, 1, 7, 2, 1, 0, 3, 2, 4, 0, -2]\n",
            "True Valence Labels: [-3, 0, -7, -1, -1, -1, -2, -2, -3, 2, -2, 2, 1, -4, 0, 1, 0, -2, 0, 1, -1, 2, -2, 2, 0, 4, 2, 0, 2, -2, -1, 3, 0, -7, 0, -2, 2, -2, -2, -6, -1, -1, -1, 1, -2, 1, 6, -3, -5, -1, -4, 0, 2, 4, 6, -6, -1, 0, -2, 0, -1, 4, 0, 0, -1, 1, 0, -2, 2, 1, -2, 0, 2, 0, -4, 2, 3, -1, 0, -1, 2, -5, 0, -2, 0, 2, -2, -4, 5, 0, 0, -2, 0, -2, 4, 0, 0, -1, 0, 0, -2, 3, -2, 0, -1, -1, 2, -1, 1, -2, -5, -5, 4, -2, 0, -5, -2, -2, -4, -1, 0, 0, -2, 0, 1, -4, -1, 0, 0, 2, -5, -3, 0, 4, -2, 1, 0, -2, 0, 1, 0, -2, -1, 1, -2, -1, 0, 0, 0, -2, -1, -1, -1, 4, -2, 5, -1, -4, -2, -1, -1, 0, 3, 0, -1, 3, -2, -2, -1, 0, 2, -2, -2, 0, -3, -2, 0, -2, -6, 2, -2, 0, -6, -3, -1, 0, -4, 2, -1, -2, 0, -1, 2, 0, -1, -7, -2, -2, 2, -3, 2, 0, -2, -2, 2, -1, 0, -5, 2, 0, -1, 0, -4, -2, -2, -2, -2, -4, -2, -2, -3, -1, 0, 0, -2, -4, -1, -2, -5, 0, -2, -1, -2, 0, -2, -1, -2, -1, -1, -2, -2, -1, -2, 1, 0, -1, -5, -1, 4, 5, -4, -1, 0, 4, -3, -4, -5, 2, -2, -1, 6, -1, 0, 0, -1, -6, -5, -7, -2, -2, -2, 0, 5, 5, -2, -3, -2, 0, -4, 0, 2, -6, 4, 1, 0, -5, -5, 0, -2, -4, 0, 3, 0, -1, -2, -4, -1, 2, 0, -2, 0, -1, 3, -4, -6, 0, -4, 3, -1, -1, -1, -1, -4, 3, -1, -2, -1, -4, -1, 0, -6, 0, 0, 0, -5, -4, 5, -1, 0, 0, -5, 5, -1, -5, -4, 0, -1, -2, 0, -2, -4, -2, -6, -1, -2, -1, 0, -5, 5, -2, 5, -1, -1, 0, -2, -6, -1, 5, -6, -5, -3, -4, -5, -3, -1, -2, -4, 1, -2, 0, -5, -1, -2, -1, 2, 2, -7, 0, -2, 0, -2, 4, 2, 2, 0, 3, 0, 0, -2, 0, -2, 1, 1, 2, -1, 0, -3, 0, 2, 0, -2, -1, 0, 0, -1, 0, -1, 3, -1, 0, -2, 6, 0, -4, -4, -1, -2, 0, 5, -1, 0, -2, -1, -4, 0, -1, -4, 4, -2, 0, 0, -6, -1, -2, -2, 3, 3, -1, 0, 2, -6, 0, -2, 0, 2, -1, 0, 0, 1, -2, 0, -3, -2, -4, 0, 0, -2, -4, 0, 1, 0, -2, 0, -2, 1, -5, 0, -1, 2, -8, -1, -2, -2, -1, -4, -4, -2, -2, 1, -2, 1, 1, -1, -1, 0, 0, 5, -1, -5, -1, -1, 0, 0, 0, 0, -1, 0, 0, 0, 0, -2, 0, 0, -2, -1, 1, 0, -4, 3, -2, 3, -2, 0, 0, 0, -2, 0, -2, -1, -2, 1, -1, 0, 0, 0, -6, 1, 2, 5, -1, -4, 6, 0, -2, -2, 1, 1, -2, -1, -6, 0, -1, 0, 1, -7, -1, 0, 0, -2, -1, 1, 0, -2]\n"
          ]
        },
        {
          "output_type": "display_data",
          "data": {
            "text/plain": [
              "<Figure size 2400x600 with 2 Axes>"
            ],
            "image/png": "[encoded data removed]"
          },
          "metadata": {}
        }
      ]
    },
    {
      "cell_type": "code",
      "source": [
        "f1_arousal = f1_score(true_arousal_labels, predictions_arousal, average='macro')\n",
        "f1_valence = f1_score(true_valence_labels, predictions_valence, average='macro')\n",
        "print(f'Arousal F1 Score: {f1_arousal}')\n",
        "print(f'Valence F1 Score: {f1_valence}')"
      ],
      "metadata": {
        "colab": {
          "base_uri": "https://localhost:8080/"
        },
        "id": "1frLNEcZxUo6",
        "outputId": "9137e61a-a0ff-4298-c282-5e8a382e2fbb"
      },
      "id": "1frLNEcZxUo6",
      "execution_count": 108,
      "outputs": [
        {
          "output_type": "stream",
          "name": "stdout",
          "text": [
            "Arousal F1 Score: 0.8222648614710653\n",
            "Valence F1 Score: 0.89378634413001\n"
          ]
        }
      ]
    },
    {
      "cell_type": "code",
      "source": [
        "import numpy as np\n",
        "\n",
        "arousal_predictions_np = np.array(arousal_predictions)\n",
        "valence_predictions_np = np.array(valence_predictions)\n",
        "true_arousal_labels_np = np.array(true_arousal_labels)\n",
        "true_valence_labels_np = np.array(true_valence_labels)\n"
      ],
      "metadata": {
        "id": "Ywpk9nVbxnGv"
      },
      "id": "Ywpk9nVbxnGv",
      "execution_count": 111,
      "outputs": []
    },
    {
      "cell_type": "code",
      "source": [
        "np.save('/content/drive/MyDrive/Celestine/Sequence_based FER/arousal_predictions.npy', arousal_predictions_np)\n",
        "np.save('/content/drive/MyDrive/Celestine/Sequence_based FER/valence_predictions.npy', valence_predictions_np)\n",
        "np.save('/content/drive/MyDrive/Celestine/Sequence_based FER/true_arousal_labels.npy', true_arousal_labels_np)\n",
        "np.save('/content/drive/MyDrive/Celestine/Sequence_based FER/true_valence_labels.npy', true_valence_labels_np)\n"
      ],
      "metadata": {
        "id": "gYJ5fgkzzius"
      },
      "id": "gYJ5fgkzzius",
      "execution_count": 112,
      "outputs": []
    }
  ],
  "metadata": {
    "kernelspec": {
      "display_name": "Python 3",
      "name": "python3"
    },
    "language_info": {
      "codemirror_mode": {
        "name": "ipython",
        "version": 3
      },
      "file_extension": ".py",
      "mimetype": "text/x-python",
      "name": "python",
      "nbconvert_exporter": "python",
      "pygments_lexer": "ipython3",
      "version": "3.10.13"
    },
    "colab": {
      "provenance": []
    }
  },
  "nbformat": 4,
  "nbformat_minor": 5
}